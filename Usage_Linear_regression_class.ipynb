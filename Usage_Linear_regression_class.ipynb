{
 "cells": [
  {
   "cell_type": "markdown",
   "id": "c0139c96-5562-4148-a129-4ae18b2662ce",
   "metadata": {},
   "source": [
    "### Libraries"
   ]
  },
  {
   "cell_type": "code",
   "execution_count": 7,
   "id": "78a9010b-3655-474e-a613-d9f50cd0fc5a",
   "metadata": {},
   "outputs": [],
   "source": [
    "import pandas as pd\n",
    "import numpy as np\n",
    "from sklearn.model_selection import train_test_split \n",
    "import seaborn as sns"
   ]
  },
  {
   "cell_type": "markdown",
   "id": "fdc9c60e-b5fd-4e0c-a7b3-29077add00fb",
   "metadata": {},
   "source": [
    "### Dataset"
   ]
  },
  {
   "cell_type": "code",
   "execution_count": 17,
   "id": "9486e0b8-f0d0-4eca-8200-fa575c33570c",
   "metadata": {},
   "outputs": [
    {
     "data": {
      "text/html": [
       "<div>\n",
       "<style scoped>\n",
       "    .dataframe tbody tr th:only-of-type {\n",
       "        vertical-align: middle;\n",
       "    }\n",
       "\n",
       "    .dataframe tbody tr th {\n",
       "        vertical-align: top;\n",
       "    }\n",
       "\n",
       "    .dataframe thead th {\n",
       "        text-align: right;\n",
       "    }\n",
       "</style>\n",
       "<table border=\"1\" class=\"dataframe\">\n",
       "  <thead>\n",
       "    <tr style=\"text-align: right;\">\n",
       "      <th></th>\n",
       "      <th>total_bill</th>\n",
       "      <th>tip</th>\n",
       "      <th>sex</th>\n",
       "      <th>smoker</th>\n",
       "      <th>day</th>\n",
       "      <th>time</th>\n",
       "      <th>size</th>\n",
       "    </tr>\n",
       "  </thead>\n",
       "  <tbody>\n",
       "    <tr>\n",
       "      <th>0</th>\n",
       "      <td>16.99</td>\n",
       "      <td>1.01</td>\n",
       "      <td>Female</td>\n",
       "      <td>No</td>\n",
       "      <td>Sun</td>\n",
       "      <td>Dinner</td>\n",
       "      <td>2</td>\n",
       "    </tr>\n",
       "    <tr>\n",
       "      <th>1</th>\n",
       "      <td>10.34</td>\n",
       "      <td>1.66</td>\n",
       "      <td>Male</td>\n",
       "      <td>No</td>\n",
       "      <td>Sun</td>\n",
       "      <td>Dinner</td>\n",
       "      <td>3</td>\n",
       "    </tr>\n",
       "    <tr>\n",
       "      <th>2</th>\n",
       "      <td>21.01</td>\n",
       "      <td>3.50</td>\n",
       "      <td>Male</td>\n",
       "      <td>No</td>\n",
       "      <td>Sun</td>\n",
       "      <td>Dinner</td>\n",
       "      <td>3</td>\n",
       "    </tr>\n",
       "  </tbody>\n",
       "</table>\n",
       "</div>"
      ],
      "text/plain": [
       "   total_bill   tip     sex smoker  day    time  size\n",
       "0       16.99  1.01  Female     No  Sun  Dinner     2\n",
       "1       10.34  1.66    Male     No  Sun  Dinner     3\n",
       "2       21.01  3.50    Male     No  Sun  Dinner     3"
      ]
     },
     "execution_count": 17,
     "metadata": {},
     "output_type": "execute_result"
    }
   ],
   "source": [
    "df=sns.load_dataset('tips')\n",
    "df.head(3)"
   ]
  },
  {
   "cell_type": "code",
   "execution_count": 23,
   "id": "aaba7ef7-c7ca-4127-94f7-f360f7468a72",
   "metadata": {},
   "outputs": [
    {
     "data": {
      "text/html": [
       "<div>\n",
       "<style scoped>\n",
       "    .dataframe tbody tr th:only-of-type {\n",
       "        vertical-align: middle;\n",
       "    }\n",
       "\n",
       "    .dataframe tbody tr th {\n",
       "        vertical-align: top;\n",
       "    }\n",
       "\n",
       "    .dataframe thead th {\n",
       "        text-align: right;\n",
       "    }\n",
       "</style>\n",
       "<table border=\"1\" class=\"dataframe\">\n",
       "  <thead>\n",
       "    <tr style=\"text-align: right;\">\n",
       "      <th></th>\n",
       "      <th>total_bill</th>\n",
       "      <th>tip</th>\n",
       "      <th>size</th>\n",
       "    </tr>\n",
       "  </thead>\n",
       "  <tbody>\n",
       "    <tr>\n",
       "      <th>0</th>\n",
       "      <td>16.99</td>\n",
       "      <td>1.01</td>\n",
       "      <td>2</td>\n",
       "    </tr>\n",
       "    <tr>\n",
       "      <th>1</th>\n",
       "      <td>10.34</td>\n",
       "      <td>1.66</td>\n",
       "      <td>3</td>\n",
       "    </tr>\n",
       "    <tr>\n",
       "      <th>2</th>\n",
       "      <td>21.01</td>\n",
       "      <td>3.50</td>\n",
       "      <td>3</td>\n",
       "    </tr>\n",
       "  </tbody>\n",
       "</table>\n",
       "</div>"
      ],
      "text/plain": [
       "   total_bill   tip  size\n",
       "0       16.99  1.01     2\n",
       "1       10.34  1.66     3\n",
       "2       21.01  3.50     3"
      ]
     },
     "execution_count": 23,
     "metadata": {},
     "output_type": "execute_result"
    }
   ],
   "source": [
    "df=df.select_dtypes(include=('float','int'))\n",
    "df.head(3)"
   ]
  },
  {
   "cell_type": "code",
   "execution_count": 25,
   "id": "e3443754-9276-4976-b4e4-a428b9eafb62",
   "metadata": {},
   "outputs": [
    {
     "data": {
      "text/html": [
       "<div>\n",
       "<style scoped>\n",
       "    .dataframe tbody tr th:only-of-type {\n",
       "        vertical-align: middle;\n",
       "    }\n",
       "\n",
       "    .dataframe tbody tr th {\n",
       "        vertical-align: top;\n",
       "    }\n",
       "\n",
       "    .dataframe thead th {\n",
       "        text-align: right;\n",
       "    }\n",
       "</style>\n",
       "<table border=\"1\" class=\"dataframe\">\n",
       "  <thead>\n",
       "    <tr style=\"text-align: right;\">\n",
       "      <th></th>\n",
       "      <th>total_bill</th>\n",
       "      <th>tip</th>\n",
       "      <th>size</th>\n",
       "    </tr>\n",
       "  </thead>\n",
       "  <tbody>\n",
       "    <tr>\n",
       "      <th>total_bill</th>\n",
       "      <td>1.000000</td>\n",
       "      <td>0.675734</td>\n",
       "      <td>0.598315</td>\n",
       "    </tr>\n",
       "    <tr>\n",
       "      <th>tip</th>\n",
       "      <td>0.675734</td>\n",
       "      <td>1.000000</td>\n",
       "      <td>0.489299</td>\n",
       "    </tr>\n",
       "    <tr>\n",
       "      <th>size</th>\n",
       "      <td>0.598315</td>\n",
       "      <td>0.489299</td>\n",
       "      <td>1.000000</td>\n",
       "    </tr>\n",
       "  </tbody>\n",
       "</table>\n",
       "</div>"
      ],
      "text/plain": [
       "            total_bill       tip      size\n",
       "total_bill    1.000000  0.675734  0.598315\n",
       "tip           0.675734  1.000000  0.489299\n",
       "size          0.598315  0.489299  1.000000"
      ]
     },
     "execution_count": 25,
     "metadata": {},
     "output_type": "execute_result"
    }
   ],
   "source": [
    "df.corr()"
   ]
  },
  {
   "cell_type": "code",
   "execution_count": 124,
   "id": "dfb0a0f7-5c3c-4d1d-9239-16bfcd0a9f0e",
   "metadata": {},
   "outputs": [],
   "source": [
    "x=df[['total_bill']]\n",
    "y=df[['tip']]\n",
    "\n"
   ]
  },
  {
   "cell_type": "markdown",
   "id": "cada2c4a-a4c1-4c95-b29e-a06717aba931",
   "metadata": {},
   "source": [
    "### Split"
   ]
  },
  {
   "cell_type": "code",
   "execution_count": 140,
   "id": "3cddb1e4-543b-4a27-a3e8-373b50c5d368",
   "metadata": {},
   "outputs": [],
   "source": [
    "x_train,x_test,y_train,y_test=train_test_split(x,y,test_size=0.2,random_state=2)\n"
   ]
  },
  {
   "cell_type": "markdown",
   "id": "14602534-ded1-4835-9f4f-64d1e52e6690",
   "metadata": {},
   "source": [
    "### Linear Class"
   ]
  },
  {
   "cell_type": "code",
   "execution_count": 130,
   "id": "fadf27e1-5452-4c1a-ae5f-bc1f576e9011",
   "metadata": {},
   "outputs": [],
   "source": [
    "import numpy as np \n",
    "\n",
    "class LinearRegression:\n",
    "    def __init__(self):\n",
    "        self.coefficient=None\n",
    "        self.intercept=None\n",
    "\n",
    "    def fit(self,x_train,y_train):\n",
    "\n",
    "        x_mean=x_train.mean()\n",
    "        y_mean=y_train.mean()\n",
    "        self.coefficient = np.sum(((x_train-x_mean).values)*((y_train-y_mean).values))/np.sum(((x_train-x_mean).values)**2)\n",
    "        self.intercept = y_mean.values-(self.coefficient*x_mean.values)\n",
    "\n",
    "    def predict(self,x_test):\n",
    "\n",
    "        list=[]\n",
    "        for i in x_test.values:\n",
    "            list.append((self.coefficient*(i))+self.intercept)\n",
    "            \n",
    "\n",
    "        return np.asarray(list)"
   ]
  },
  {
   "cell_type": "markdown",
   "id": "c1b65b9e-d48a-4328-9b4d-0a6f3381076c",
   "metadata": {},
   "source": [
    "### Using our own fit and Predict method"
   ]
  },
  {
   "cell_type": "code",
   "execution_count": 142,
   "id": "8f6b7cf5-72d0-4a79-b0ff-1fae4078dcef",
   "metadata": {},
   "outputs": [],
   "source": [
    "lr=LinearRegression()\n",
    "lr.fit(x_train,y_train)"
   ]
  },
  {
   "cell_type": "code",
   "execution_count": 144,
   "id": "93827ef8-8fbf-4178-bccc-819857b46d89",
   "metadata": {},
   "outputs": [
    {
     "data": {
      "text/plain": [
       "array([[4.43062038],\n",
       "       [3.5281998 ],\n",
       "       [1.86938137],\n",
       "       [2.62869966],\n",
       "       [3.37146871],\n",
       "       [4.37902568],\n",
       "       [2.00761624],\n",
       "       [2.99473002],\n",
       "       [3.47368464],\n",
       "       [5.74482513],\n",
       "       [2.03974124],\n",
       "       [2.75233226],\n",
       "       [3.0998664 ],\n",
       "       [2.70171104],\n",
       "       [1.96965032],\n",
       "       [3.34518462],\n",
       "       [2.38435493],\n",
       "       [2.59560117],\n",
       "       [2.16824126],\n",
       "       [2.96844592],\n",
       "       [2.62383224],\n",
       "       [2.53719207],\n",
       "       [3.38217705],\n",
       "       [2.96941941],\n",
       "       [2.72020725],\n",
       "       [2.64135497],\n",
       "       [2.78445726],\n",
       "       [2.83410499],\n",
       "       [2.25293445],\n",
       "       [2.33276022],\n",
       "       [2.73967695],\n",
       "       [3.19332096],\n",
       "       [2.250014  ],\n",
       "       [3.38412402],\n",
       "       [3.5603248 ],\n",
       "       [4.87745   ],\n",
       "       [3.97405592],\n",
       "       [2.3210784 ],\n",
       "       [2.4836504 ],\n",
       "       [3.54280207],\n",
       "       [4.41115068],\n",
       "       [3.78033241],\n",
       "       [2.81755575],\n",
       "       [2.80684741],\n",
       "       [2.42816175],\n",
       "       [2.77374893],\n",
       "       [5.4547266 ],\n",
       "       [2.282139  ],\n",
       "       [2.34638901]])"
      ]
     },
     "execution_count": 144,
     "metadata": {},
     "output_type": "execute_result"
    }
   ],
   "source": [
    "lr.predict(x_test)"
   ]
  }
 ],
 "metadata": {
  "kernelspec": {
   "display_name": "Python 3 (ipykernel)",
   "language": "python",
   "name": "python3"
  },
  "language_info": {
   "codemirror_mode": {
    "name": "ipython",
    "version": 3
   },
   "file_extension": ".py",
   "mimetype": "text/x-python",
   "name": "python",
   "nbconvert_exporter": "python",
   "pygments_lexer": "ipython3",
   "version": "3.12.5"
  }
 },
 "nbformat": 4,
 "nbformat_minor": 5
}
